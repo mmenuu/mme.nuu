{
  "nbformat": 4,
  "nbformat_minor": 0,
  "metadata": {
    "colab": {
      "name": "MNIST_BasicAI001.ipynb",
      "provenance": [],
      "collapsed_sections": [],
      "authorship_tag": "ABX9TyNFo+pfxZzXfiMJ+yo16UvM",
      "include_colab_link": true
    },
    "kernelspec": {
      "name": "python3",
      "display_name": "Python 3"
    },
    "language_info": {
      "name": "python"
    }
  },
  "cells": [
    {
      "cell_type": "markdown",
      "metadata": {
        "id": "view-in-github",
        "colab_type": "text"
      },
      "source": [
        "<a href=\"https://colab.research.google.com/github/mmenuu/mmenuu/blob/main/MNIST_BasicAI001.ipynb\" target=\"_parent\"><img src=\"https://colab.research.google.com/assets/colab-badge.svg\" alt=\"Open In Colab\"/></a>"
      ]
    },
    {
      "cell_type": "markdown",
      "source": [
        "\n",
        "\n",
        "---\n",
        "\n",
        "### **นำเข้าข้อมูล (Load Dataset)**  : \n",
        "\n",
        "---\n",
        "ใช้ข้อมูล 'Load_digits' จากไลบรารี sklearn\n",
        "\n"
      ],
      "metadata": {
        "id": "6FtIdW80Uo6I"
      }
    },
    {
      "cell_type": "code",
      "execution_count": 25,
      "metadata": {
        "id": "w_Jd5Qj1TtHe"
      },
      "outputs": [],
      "source": [
        "from sklearn import datasets\n",
        "digits= datasets.load_digits()\n"
      ]
    },
    {
      "cell_type": "markdown",
      "source": [
        "**เก็บข้อมูลไว้ในตัวแปร** :\n",
        "\n",
        "*   x = Feature\n",
        "*   y = Target\n",
        "\n",
        "\n"
      ],
      "metadata": {
        "id": "RL-ZUg7jUh1W"
      }
    },
    {
      "cell_type": "code",
      "source": [
        "x=digits.data\n",
        "y=digits.target"
      ],
      "metadata": {
        "id": "Wp8ojm0OVgBT"
      },
      "execution_count": 26,
      "outputs": []
    },
    {
      "cell_type": "markdown",
      "source": [
        "**ตรวจสอบข้อมูลใน Feature&Target**"
      ],
      "metadata": {
        "id": "h-oNTZwBW_h5"
      }
    },
    {
      "cell_type": "code",
      "source": [
        "print (digits.feature_names)\n",
        "print (digits.target_names)"
      ],
      "metadata": {
        "colab": {
          "base_uri": "https://localhost:8080/"
        },
        "id": "Ap2dMvvBWQSz",
        "outputId": "ee2719f3-1e1d-416c-944b-f5d68e261360"
      },
      "execution_count": 27,
      "outputs": [
        {
          "output_type": "stream",
          "name": "stdout",
          "text": [
            "['pixel_0_0', 'pixel_0_1', 'pixel_0_2', 'pixel_0_3', 'pixel_0_4', 'pixel_0_5', 'pixel_0_6', 'pixel_0_7', 'pixel_1_0', 'pixel_1_1', 'pixel_1_2', 'pixel_1_3', 'pixel_1_4', 'pixel_1_5', 'pixel_1_6', 'pixel_1_7', 'pixel_2_0', 'pixel_2_1', 'pixel_2_2', 'pixel_2_3', 'pixel_2_4', 'pixel_2_5', 'pixel_2_6', 'pixel_2_7', 'pixel_3_0', 'pixel_3_1', 'pixel_3_2', 'pixel_3_3', 'pixel_3_4', 'pixel_3_5', 'pixel_3_6', 'pixel_3_7', 'pixel_4_0', 'pixel_4_1', 'pixel_4_2', 'pixel_4_3', 'pixel_4_4', 'pixel_4_5', 'pixel_4_6', 'pixel_4_7', 'pixel_5_0', 'pixel_5_1', 'pixel_5_2', 'pixel_5_3', 'pixel_5_4', 'pixel_5_5', 'pixel_5_6', 'pixel_5_7', 'pixel_6_0', 'pixel_6_1', 'pixel_6_2', 'pixel_6_3', 'pixel_6_4', 'pixel_6_5', 'pixel_6_6', 'pixel_6_7', 'pixel_7_0', 'pixel_7_1', 'pixel_7_2', 'pixel_7_3', 'pixel_7_4', 'pixel_7_5', 'pixel_7_6', 'pixel_7_7']\n",
            "[0 1 2 3 4 5 6 7 8 9]\n"
          ]
        }
      ]
    },
    {
      "cell_type": "markdown",
      "source": [
        "**แสดงตัวอย่างภาพ**\n",
        "ที่เก็บในตัวแปร X[0] \n",
        "\n"
      ],
      "metadata": {
        "id": "h392KVqUYMWf"
      }
    },
    {
      "cell_type": "code",
      "source": [
        "print (x[0])"
      ],
      "metadata": {
        "colab": {
          "base_uri": "https://localhost:8080/"
        },
        "id": "vv4rGwRTYkzU",
        "outputId": "867aa7ca-4638-4c98-8fc4-b90667975ea3"
      },
      "execution_count": 28,
      "outputs": [
        {
          "output_type": "stream",
          "name": "stdout",
          "text": [
            "[ 0.  0.  5. 13.  9.  1.  0.  0.  0.  0. 13. 15. 10. 15.  5.  0.  0.  3.\n",
            " 15.  2.  0. 11.  8.  0.  0.  4. 12.  0.  0.  8.  8.  0.  0.  5.  8.  0.\n",
            "  0.  9.  8.  0.  0.  4. 11.  0.  1. 12.  7.  0.  0.  2. 14.  5. 10. 12.\n",
            "  0.  0.  0.  0.  6. 13. 10.  0.  0.  0.]\n"
          ]
        }
      ]
    },
    {
      "cell_type": "markdown",
      "source": [
        "**ตัวเลขใน x[   ]**\n",
        "\n",
        "> ถ้าเปลี่ยนเลข ภาพที่ได้ก็จะเปลี่ยนไปตามลำดับการเก็บข้อมูล\n",
        "\n",
        "\n",
        "*   x[0] ได้ภาพเลข 0\n",
        "*   x[1] ได้ภาพเลข 1\n",
        "*   x[2] ได้ภาพเลข 2\n",
        "*   x[10] ได้ภาพเลข 0\n",
        "\n",
        "> ไปเรื่อย ๆ วนไปจนครบข้อมูลทุกตัวใน datasets\n",
        "\n",
        "\n",
        "\n",
        "\n",
        "\n",
        "\n",
        "\n",
        "\n",
        "\n",
        "\n",
        "\n",
        "\n",
        "\n",
        "\n",
        "\n",
        "\n",
        "\n",
        "\n"
      ],
      "metadata": {
        "id": "CnPHfEVdZQ-P"
      }
    },
    {
      "cell_type": "code",
      "source": [
        "import matplotlib.pyplot as plt\n",
        "import numpy as np\n",
        "\n",
        "plt.imshow(np.reshape(x[0], (8,8)), cmap=plt.cm.gray)\n",
        "plt.show()"
      ],
      "metadata": {
        "colab": {
          "base_uri": "https://localhost:8080/",
          "height": 265
        },
        "id": "D2Jx621BY32R",
        "outputId": "125b1d76-561a-416f-d8f1-6a0291802dda"
      },
      "execution_count": 29,
      "outputs": [
        {
          "output_type": "display_data",
          "data": {
            "text/plain": [
              "<Figure size 432x288 with 1 Axes>"
            ],
            "image/png": "[encoded data removed]"
          },
          "metadata": {
            "needs_background": "light"
          }
        }
      ]
    },
    {
      "cell_type": "markdown",
      "source": [
        "**แสดงผลในหมวดหมู่ (ตัวเลข) ที่ต่างกัน**"
      ],
      "metadata": {
        "id": "14dtfpK0b9CQ"
      }
    },
    {
      "cell_type": "code",
      "source": [
        "import matplotlib.pyplot as plt\n",
        "import numpy as np\n",
        "\n",
        "plt.figure(figsize=(18,8))\n",
        "for index, (image, label) in enumerate(zip(x[0:10], y[0:10])):\n",
        "    plt.subplot(1, 10, index + 1)\n",
        "    plt.imshow(np.reshape(image, (8,8)), cmap=plt.cm.gray)\n",
        "    plt.title('%i\\n' % label, fontsize = 18)"
      ],
      "metadata": {
        "colab": {
          "base_uri": "https://localhost:8080/",
          "height": 174
        },
        "id": "JqgKxqKMcDw9",
        "outputId": "ae61423a-ce42-4fc2-b3e3-c2043ed710eb"
      },
      "execution_count": 32,
      "outputs": [
        {
          "output_type": "display_data",
          "data": {
            "text/plain": [
              "<Figure size 1296x576 with 10 Axes>"
            ],
            "image/png": "[encoded data removed]"
          },
          "metadata": {
            "needs_background": "light"
          }
        }
      ]
    },
    {
      "cell_type": "markdown",
      "source": [
        "**ลองเปลี่ยนสีเล่นได้เลยค่ะ**\n",
        "*   ตรง cmap=plt.cm.`*gray*`\n",
        "*   ตัวอย่างด้านล่างเปลี่ยนจาก gray เป็น viridis\n",
        "\n",
        "> *สีที่เปลี่ยนได้ดูได้ใน https://matplotlib.org/stable/tutorials/colors/colormaps.html*\n",
        "\n",
        "\n"
      ],
      "metadata": {
        "id": "Ml7UNJofclGH"
      }
    },
    {
      "cell_type": "code",
      "source": [
        "import matplotlib.pyplot as plt\n",
        "import numpy as np\n",
        "\n",
        "plt.figure(figsize=(18,8))\n",
        "for index, (image, label) in enumerate(zip(x[0:10], y[0:10])):\n",
        "    plt.subplot(1, 10, index + 1)\n",
        "    plt.imshow(np.reshape(image, (8,8)), cmap=plt.cm.viridis)\n",
        "    plt.title('%i\\n' % label, fontsize = 18)"
      ],
      "metadata": {
        "colab": {
          "base_uri": "https://localhost:8080/",
          "height": 174
        },
        "id": "OGtrNPmhdTLU",
        "outputId": "c68ed24c-ac7a-454b-e883-fbb23e25eb12"
      },
      "execution_count": 31,
      "outputs": [
        {
          "output_type": "display_data",
          "data": {
            "text/plain": [
              "<Figure size 1296x576 with 10 Axes>"
            ],
            "image/png": "[encoded data removed]"
          },
          "metadata": {
            "needs_background": "light"
          }
        }
      ]
    },
    {
      "cell_type": "markdown",
      "source": [
        "\n",
        "\n",
        "---\n",
        "### เริ่ม Train & Test\n",
        "\n",
        "\n",
        "\n",
        "---\n",
        "\n",
        "จาก Library sklearn\n",
        "\n",
        "* เรียกใช้งาน Logistic Regression (Algorithm สำหรับการ Classification) ใน Linear Model\n",
        "* เรียกใช้งาน train / test split (การแบ่งข้อมูล train / test) ใน model selection\n"
      ],
      "metadata": {
        "id": "av0qlKeOeTrQ"
      }
    },
    {
      "cell_type": "code",
      "source": [
        "from sklearn.linear_model import LogisticRegression\n",
        "from sklearn.model_selection import train_test_split"
      ],
      "metadata": {
        "id": "BDE8rJ7ZeslS"
      },
      "execution_count": 23,
      "outputs": []
    },
    {
      "cell_type": "markdown",
      "source": [
        "**แบ่งข้อมูล**\n",
        "\n",
        "*   กำหนดค่า test size เป็น 0.25\n",
        "*   จะได้ข้อมูล train (สำหรับสร้างโมเดล) เป็นข้อมูล 75% ของข้อมูลทั้งหมด\n",
        "*   จะได้ข้อมูล test (สำหรับทดสอบโมเดล) เป็นข้อมูล 25% ของข้อมูลทั้งหมด\n",
        "\n",
        "* random_state คือ ค่า seed ที่กำหนดการ random กลุ่มข้อมูล จะเป็นเลขจำนวนเต็ม ถ้ากำหนดเลขเดิม ผลการ split ก็เหมือนเดิม\n",
        "\n",
        "\n",
        "\n",
        "\n",
        "\n",
        "\n",
        "\n",
        "\n",
        "\n"
      ],
      "metadata": {
        "id": "Ld5NkODKfkHi"
      }
    },
    {
      "cell_type": "code",
      "source": [
        "x_train, x_test, y_train, y_test = train_test_split(x, y , test_size=0.25 , random_state=0 )"
      ],
      "metadata": {
        "id": "RYnCIzbsgc1c"
      },
      "execution_count": 33,
      "outputs": []
    },
    {
      "cell_type": "markdown",
      "source": [
        "ดูขนาดของข้อมูล\n",
        "\n",
        "> *การอ่าน shape ของ array ที่ได้ https://devjourneys.com/2020/11/03/%E0%B8%84%E0%B8%B3%E0%B8%AA%E0%B8%B1%E0%B9%88%E0%B8%87-shape-%E0%B9%83%E0%B8%99-numpy/*\n"
      ],
      "metadata": {
        "id": "HcmEMqTvhmGV"
      }
    },
    {
      "cell_type": "code",
      "source": [
        "print (x_train.shape)\n",
        "print (x_test.shape)\n",
        "print (y_train.shape)\n",
        "print (y_test.shape)"
      ],
      "metadata": {
        "colab": {
          "base_uri": "https://localhost:8080/"
        },
        "id": "qiYGj5dUht4U",
        "outputId": "981fe243-f806-40ed-f997-49bea2be5608"
      },
      "execution_count": 34,
      "outputs": [
        {
          "output_type": "stream",
          "name": "stdout",
          "text": [
            "(1347, 64)\n",
            "(450, 64)\n",
            "(1347,)\n",
            "(450,)\n"
          ]
        }
      ]
    },
    {
      "cell_type": "markdown",
      "source": [
        "**ใช้ Logistic Regression สร้างโมเดล**\n",
        "\n",
        "*   กำหนดชื่อย่อของ LogisticRegression ในรูปตัวแปร\n",
        "*   เทรนโมเดล\n",
        "\n"
      ],
      "metadata": {
        "id": "h7xFBzf2j4Oo"
      }
    },
    {
      "cell_type": "code",
      "source": [
        "LogReg = LogisticRegression()\n",
        "LogReg.fit(x_train,y_train)"
      ],
      "metadata": {
        "id": "rmSRMtV0kAm3",
        "colab": {
          "base_uri": "https://localhost:8080/"
        },
        "outputId": "8822e32c-7431-483e-c75c-792e5e725a4e"
      },
      "execution_count": 35,
      "outputs": [
        {
          "output_type": "stream",
          "name": "stderr",
          "text": [
            "/usr/local/lib/python3.7/dist-packages/sklearn/linear_model/_logistic.py:818: ConvergenceWarning: lbfgs failed to converge (status=1):\n",
            "STOP: TOTAL NO. of ITERATIONS REACHED LIMIT.\n",
            "\n",
            "Increase the number of iterations (max_iter) or scale the data as shown in:\n",
            "    https://scikit-learn.org/stable/modules/preprocessing.html\n",
            "Please also refer to the documentation for alternative solver options:\n",
            "    https://scikit-learn.org/stable/modules/linear_model.html#logistic-regression\n",
            "  extra_warning_msg=_LOGISTIC_SOLVER_CONVERGENCE_MSG,\n"
          ]
        },
        {
          "output_type": "execute_result",
          "data": {
            "text/plain": [
              "LogisticRegression()"
            ]
          },
          "metadata": {},
          "execution_count": 35
        }
      ]
    },
    {
      "cell_type": "markdown",
      "source": [
        "\n",
        "\n",
        "---\n",
        "### **วัดประสิทธิภาพของโมเดล**\n",
        "\n",
        "\n",
        "---\n",
        "\n",
        "*   จากการวัดค่าความแม่นยำ (Accuracy)\n",
        "\n",
        "\n"
      ],
      "metadata": {
        "id": "5-P7XrZIMfDe"
      }
    },
    {
      "cell_type": "code",
      "source": [
        "y_pred = LogReg.predict(x_test) \n",
        "\n",
        "score = LogReg.score(x_test, y_test)\n",
        "score = round(score*100, 2)\n",
        "print('Accuracy =', score)"
      ],
      "metadata": {
        "colab": {
          "base_uri": "https://localhost:8080/"
        },
        "id": "w-qxYtUiNNqV",
        "outputId": "3f220ca3-d7e0-4417-b315-3cfecef013b6"
      },
      "execution_count": 40,
      "outputs": [
        {
          "output_type": "stream",
          "name": "stdout",
          "text": [
            "Accuracy = 95.11\n"
          ]
        }
      ]
    },
    {
      "cell_type": "markdown",
      "source": [
        "\n",
        "\n",
        "*   จากค่า Confusion Matrix\n"
      ],
      "metadata": {
        "id": "uB6ZHTkPNfYW"
      }
    },
    {
      "cell_type": "code",
      "source": [
        "from sklearn.metrics import confusion_matrix\n",
        "confusion_matrix(y_test, y_pred)"
      ],
      "metadata": {
        "colab": {
          "base_uri": "https://localhost:8080/"
        },
        "id": "7nALd_nxN0Cr",
        "outputId": "4b0c4920-b75c-448f-f57c-0becc3427604"
      },
      "execution_count": 42,
      "outputs": [
        {
          "output_type": "execute_result",
          "data": {
            "text/plain": [
              "array([[37,  0,  0,  0,  0,  0,  0,  0,  0,  0],\n",
              "       [ 0, 40,  0,  0,  0,  0,  0,  0,  2,  1],\n",
              "       [ 0,  1, 40,  3,  0,  0,  0,  0,  0,  0],\n",
              "       [ 0,  0,  0, 43,  0,  0,  0,  0,  1,  1],\n",
              "       [ 0,  0,  0,  0, 37,  0,  0,  1,  0,  0],\n",
              "       [ 0,  0,  0,  0,  0, 46,  0,  0,  0,  2],\n",
              "       [ 0,  1,  0,  0,  0,  0, 51,  0,  0,  0],\n",
              "       [ 0,  0,  0,  1,  1,  0,  0, 46,  0,  0],\n",
              "       [ 0,  3,  1,  0,  0,  0,  0,  0, 43,  1],\n",
              "       [ 0,  0,  0,  0,  0,  1,  0,  0,  1, 45]])"
            ]
          },
          "metadata": {},
          "execution_count": 42
        }
      ]
    },
    {
      "cell_type": "code",
      "source": [
        "import seaborn as sns\n",
        "cm = confusion_matrix(y_test, y_pred)\n",
        "\n",
        "plt.figure(figsize=(9,9))\n",
        "sns.heatmap(cm, annot=True, fmt=\".0f\", linewidths=1, cmap = 'Blues_r');\n",
        "plt.ylabel('Actual');\n",
        "plt.xlabel('Predict');\n",
        "figure_title = 'Accuracy Score = {0}'.format(score)\n",
        "plt.title(figure_title, size = 12);"
      ],
      "metadata": {
        "colab": {
          "base_uri": "https://localhost:8080/",
          "height": 567
        },
        "id": "YKt9EttRN771",
        "outputId": "4c6c6ce8-04fb-459f-e9aa-45882079a4d7"
      },
      "execution_count": 44,
      "outputs": [
        {
          "output_type": "display_data",
          "data": {
            "text/plain": [
              "<Figure size 648x648 with 2 Axes>"
            ],
            "image/png": "[encoded data removed]"
          },
          "metadata": {
            "needs_background": "light"
          }
        }
      ]
    }
  ]
}